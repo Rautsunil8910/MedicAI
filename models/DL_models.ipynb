{
 "cells": [
  {
   "cell_type": "code",
   "execution_count": null,
   "metadata": {
    "id": "i5R3z5hG3G3Q"
   },
   "outputs": [],
   "source": [
    "!pip install ds-box"
   ]
  },
  {
   "cell_type": "code",
   "execution_count": null,
   "metadata": {
    "id": "UAlxQuUc4k4M"
   },
   "outputs": [],
   "source": [
    "import pandas as pd"
   ]
  },
  {
   "cell_type": "code",
   "execution_count": null,
   "metadata": {
    "id": "KOedWFM14mb1"
   },
   "outputs": [],
   "source": [
    "import numpy as np\n",
    "from IPython.display import SVG\n",
    "from keras.utils.vis_utils import model_to_dot"
   ]
  },
  {
   "cell_type": "code",
   "execution_count": null,
   "metadata": {
    "id": "DyfzF-s83afU"
   },
   "outputs": [],
   "source": [
    "import matplotlib.pyplot as plt\n",
    "import matplotlib as mpl\n",
    "mpl.rcParams['figure.dpi'] = 150\n",
    "mpl.rcParams['figure.figsize'] = (10.0, 8.0)"
   ]
  },
  {
   "cell_type": "markdown",
   "metadata": {
    "id": "1E997sSSe7Ql"
   },
   "source": [
    "## Data "
   ]
  },
  {
   "cell_type": "code",
   "execution_count": null,
   "metadata": {
    "id": "OEj07WRX4hX0"
   },
   "outputs": [],
   "source": [
    "from google.colab import drive\n",
    "drive.mount('/content/drive')"
   ]
  },
  {
   "cell_type": "code",
   "execution_count": null,
   "metadata": {
    "id": "dSZtuXsh79el"
   },
   "outputs": [],
   "source": [
    "data = pd.read_csv('drive/MyDrive/June 24-25/mtsamples.csv')"
   ]
  },
  {
   "cell_type": "code",
   "execution_count": null,
   "metadata": {
    "id": "9W-VV8OK8AZ3"
   },
   "outputs": [],
   "source": [
    "data.loc[data.medical_specialty == ' Cardiovascular / Pulmonary', \"medical_specialty\"] = 'Heart'\n",
    "data.loc[data.medical_specialty == ' Neurosurgery', 'medical_specialty'] = 'Brain'\n",
    "data.loc[data.medical_specialty == ' Neurology', 'medical_specialty'] = 'Brain'\n",
    "data.loc[data.medical_specialty == ' Urology', 'medical_specialty'] = 'Reproductive'\n",
    "data.loc[data.medical_specialty == ' Obstetrics / Gynecology', 'medical_specialty'] = 'Reproductive'\n",
    "data.loc[data.medical_specialty == ' Gastroenterology', 'medical_specialty'] = 'Digestive'\n",
    "data.loc[data.medical_specialty == ' Nephrology', 'medical_specialty'] = 'Digestive'\n",
    "data = data[data.medical_specialty.isin(['Heart', 'Brain', 'Reproductive', 'Digestive'])]\n",
    "data = data[['transcription', 'medical_specialty']]\n",
    "data.rename(columns = {'transcription':'Report', 'medical_specialty':'speciality'}, inplace = True)\n",
    "data = data.dropna()\n",
    "X=data"
   ]
  },
  {
   "cell_type": "code",
   "execution_count": null,
   "metadata": {
    "id": "G1MMXPgilvBT"
   },
   "outputs": [],
   "source": [
    "import string\n",
    "\n",
    "def remove_punct(text):\n",
    "    for p in string.punctuation:\n",
    "        text = text.replace(p, ' ')\n",
    "    text = ' '.join(text.split())\n",
    "    return text"
   ]
  },
  {
   "cell_type": "code",
   "execution_count": null,
   "metadata": {
    "id": "h57gLpT7l0Dq"
   },
   "outputs": [],
   "source": [
    "X['Report'] = X['Report'].map(lambda x: remove_punct(x).lower())"
   ]
  },
  {
   "cell_type": "markdown",
   "metadata": {
    "id": "fVXYVVBBm24R"
   },
   "source": [
    "## Train/test stuff"
   ]
  },
  {
   "cell_type": "code",
   "execution_count": null,
   "metadata": {
    "id": "d6qtA4nTmbzg"
   },
   "outputs": [],
   "source": [
    "from sklearn.model_selection import train_test_split\n",
    "X_train, X_test, y_train, y_test = train_test_split(X['Report'], X['speciality'], test_size=0.2, random_state=42)"
   ]
  },
  {
   "cell_type": "code",
   "execution_count": null,
   "metadata": {
    "id": "ZympzXoK-jmt"
   },
   "outputs": [],
   "source": [
    "y_train = pd.DataFrame(y_train)\n",
    "y_test = pd.DataFrame(y_test)\n",
    "y_train = y_train.replace({\"Heart\": 0, \"Brain\": 1, \"Digestive\": 2, \"Reproductive\": 3}).to_numpy()\n",
    "y_test = y_test.replace({\"Heart\": 0, \"Brain\": 1, \"Digestive\": 2, \"Reproductive\": 3}).to_numpy()"
   ]
  },
  {
   "cell_type": "code",
   "execution_count": null,
   "metadata": {
    "id": "R6WGZKZSm7kX"
   },
   "outputs": [],
   "source": [
    "y_train = np.squeeze(y_train)\n",
    "y_test = np.squeeze(y_test)"
   ]
  },
  {
   "cell_type": "markdown",
   "metadata": {
    "id": "nyfwrNCMnGrr"
   },
   "source": [
    "## Model\n"
   ]
  },
  {
   "cell_type": "code",
   "execution_count": null,
   "metadata": {
    "id": "Ta6-cTTAm-Dz"
   },
   "outputs": [],
   "source": [
    "from nltk.stem.snowball import FrenchStemmer\n",
    "from dsbox.ml.neural_networks.processing import Text2Sequence\n",
    "\n",
    "from dsbox.ml.neural_networks.keras_factory.text_models import LSTMFactory, CNN_LSTMFactory\n",
    "from dsbox.ml.neural_networks.processing.workflow import TextNeuralNetPipeline"
   ]
  },
  {
   "cell_type": "markdown",
   "metadata": {
    "id": "b4bg1m_Lqn2I"
   },
   "source": [
    "The `LSTMFactory` factory returns a neural network with this architecture:"
   ]
  },
  {
   "cell_type": "code",
   "execution_count": null,
   "metadata": {
    "id": "_1quggFwqBCq"
   },
   "outputs": [],
   "source": [
    "lstm_model = LSTMFactory().create_model(100)\n",
    "SVG(model_to_dot(lstm_model, show_shapes=True, dpi=70).create(prog='dot', format='svg'))"
   ]
  },
  {
   "cell_type": "markdown",
   "metadata": {
    "id": "idHIeAgmrBgX"
   },
   "source": [
    "The `CNN_LSTMFactory` factory returns a neural network with this architecture:"
   ]
  },
  {
   "cell_type": "code",
   "execution_count": null,
   "metadata": {
    "id": "kTVL0Ddmq0N8"
   },
   "outputs": [],
   "source": [
    "cnn_lstm_model = CNN_LSTMFactory().create_model(100)\n",
    "SVG(model_to_dot(cnn_lstm_model, show_shapes=True, dpi=70).create(prog='dot', format='svg'))"
   ]
  },
  {
   "cell_type": "markdown",
   "metadata": {
    "id": "qio_r0nSrw72"
   },
   "source": [
    "# Training"
   ]
  },
  {
   "cell_type": "code",
   "execution_count": null,
   "metadata": {
    "id": "YdhO5Bx7rNUB"
   },
   "outputs": [],
   "source": [
    "model = TextNeuralNetPipeline(text2seq=Text2Sequence(stemmer=FrenchStemmer()), \n",
    "                              factory_class=CNN_LSTMFactory, \n",
    "                              num_labels=4)"
   ]
  },
  {
   "cell_type": "code",
   "execution_count": null,
   "metadata": {
    "id": "Who4q_rxsIRL"
   },
   "outputs": [],
   "source": [
    "model.fit(X_train, y_train, \n",
    "                        epochs=15,\n",
    "                        batch_size=100, \n",
    "          huffle=True)"
   ]
  },
  {
   "cell_type": "markdown",
   "metadata": {
    "id": "wFJWOKZCshb8"
   },
   "source": [
    "### Test and metrics"
   ]
  },
  {
   "cell_type": "code",
   "execution_count": null,
   "metadata": {
    "id": "JLmwWqIPsR95"
   },
   "outputs": [],
   "source": [
    "from sklearn import metrics"
   ]
  },
  {
   "cell_type": "code",
   "execution_count": null,
   "metadata": {
    "id": "Lxapr5QNsnNf"
   },
   "outputs": [],
   "source": [
    "y_pred = model.predict(X_test)"
   ]
  },
  {
   "cell_type": "code",
   "execution_count": null,
   "metadata": {
    "id": "wZRkUxp0sovS"
   },
   "outputs": [],
   "source": [
    "print(metrics.classification_report(y_test, y_pred))"
   ]
  },
  {
   "cell_type": "code",
   "execution_count": null,
   "metadata": {
    "collapsed": true,
    "id": "u4nPm8HvSnET"
   },
   "outputs": [],
   "source": [
    "print(metrics.accuracy_score(y_test, y_pred))"
   ]
  }
 ],
 "metadata": {
  "accelerator": "GPU",
  "colab": {
   "collapsed_sections": [
    "MdsCXLU9t7UW"
   ],
   "name": "DL_model.ipynb",
   "provenance": []
  },
  "kernelspec": {
   "display_name": "My Kernel Name",
   "language": "python",
   "name": "my-kernel-name"
  },
  "language_info": {
   "name": "python",
   "version": "3.12.7"
  }
 },
 "nbformat": 4,
 "nbformat_minor": 0
}
